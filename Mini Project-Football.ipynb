{
 "cells": [
  {
   "cell_type": "code",
   "execution_count": 2,
   "id": "2ba8ba69",
   "metadata": {},
   "outputs": [],
   "source": [
    "import pandas as pd\n",
    "df = pd.read_csv(\"results.csv\")"
   ]
  },
  {
   "cell_type": "code",
   "execution_count": 3,
   "id": "65f83b83",
   "metadata": {},
   "outputs": [
    {
     "data": {
      "text/html": [
       "<div>\n",
       "<style scoped>\n",
       "    .dataframe tbody tr th:only-of-type {\n",
       "        vertical-align: middle;\n",
       "    }\n",
       "\n",
       "    .dataframe tbody tr th {\n",
       "        vertical-align: top;\n",
       "    }\n",
       "\n",
       "    .dataframe thead th {\n",
       "        text-align: right;\n",
       "    }\n",
       "</style>\n",
       "<table border=\"1\" class=\"dataframe\">\n",
       "  <thead>\n",
       "    <tr style=\"text-align: right;\">\n",
       "      <th></th>\n",
       "      <th>date</th>\n",
       "      <th>home_team</th>\n",
       "      <th>away_team</th>\n",
       "      <th>home_score</th>\n",
       "      <th>away_score</th>\n",
       "      <th>tournament</th>\n",
       "      <th>city</th>\n",
       "      <th>country</th>\n",
       "      <th>neutral</th>\n",
       "    </tr>\n",
       "  </thead>\n",
       "  <tbody>\n",
       "    <tr>\n",
       "      <th>0</th>\n",
       "      <td>1872-11-30</td>\n",
       "      <td>Scotland</td>\n",
       "      <td>England</td>\n",
       "      <td>0</td>\n",
       "      <td>0</td>\n",
       "      <td>Friendly</td>\n",
       "      <td>Glasgow</td>\n",
       "      <td>Scotland</td>\n",
       "      <td>False</td>\n",
       "    </tr>\n",
       "    <tr>\n",
       "      <th>1</th>\n",
       "      <td>1873-03-08</td>\n",
       "      <td>England</td>\n",
       "      <td>Scotland</td>\n",
       "      <td>4</td>\n",
       "      <td>2</td>\n",
       "      <td>Friendly</td>\n",
       "      <td>London</td>\n",
       "      <td>England</td>\n",
       "      <td>False</td>\n",
       "    </tr>\n",
       "    <tr>\n",
       "      <th>2</th>\n",
       "      <td>1874-03-07</td>\n",
       "      <td>Scotland</td>\n",
       "      <td>England</td>\n",
       "      <td>2</td>\n",
       "      <td>1</td>\n",
       "      <td>Friendly</td>\n",
       "      <td>Glasgow</td>\n",
       "      <td>Scotland</td>\n",
       "      <td>False</td>\n",
       "    </tr>\n",
       "    <tr>\n",
       "      <th>3</th>\n",
       "      <td>1875-03-06</td>\n",
       "      <td>England</td>\n",
       "      <td>Scotland</td>\n",
       "      <td>2</td>\n",
       "      <td>2</td>\n",
       "      <td>Friendly</td>\n",
       "      <td>London</td>\n",
       "      <td>England</td>\n",
       "      <td>False</td>\n",
       "    </tr>\n",
       "    <tr>\n",
       "      <th>4</th>\n",
       "      <td>1876-03-04</td>\n",
       "      <td>Scotland</td>\n",
       "      <td>England</td>\n",
       "      <td>3</td>\n",
       "      <td>0</td>\n",
       "      <td>Friendly</td>\n",
       "      <td>Glasgow</td>\n",
       "      <td>Scotland</td>\n",
       "      <td>False</td>\n",
       "    </tr>\n",
       "    <tr>\n",
       "      <th>...</th>\n",
       "      <td>...</td>\n",
       "      <td>...</td>\n",
       "      <td>...</td>\n",
       "      <td>...</td>\n",
       "      <td>...</td>\n",
       "      <td>...</td>\n",
       "      <td>...</td>\n",
       "      <td>...</td>\n",
       "      <td>...</td>\n",
       "    </tr>\n",
       "    <tr>\n",
       "      <th>42645</th>\n",
       "      <td>2021-09-09</td>\n",
       "      <td>Colombia</td>\n",
       "      <td>Chile</td>\n",
       "      <td>3</td>\n",
       "      <td>1</td>\n",
       "      <td>FIFA World Cup qualification</td>\n",
       "      <td>Barranquilla</td>\n",
       "      <td>Colombia</td>\n",
       "      <td>False</td>\n",
       "    </tr>\n",
       "    <tr>\n",
       "      <th>42646</th>\n",
       "      <td>2021-09-09</td>\n",
       "      <td>Paraguay</td>\n",
       "      <td>Venezuela</td>\n",
       "      <td>2</td>\n",
       "      <td>1</td>\n",
       "      <td>FIFA World Cup qualification</td>\n",
       "      <td>Asunción</td>\n",
       "      <td>Paraguay</td>\n",
       "      <td>False</td>\n",
       "    </tr>\n",
       "    <tr>\n",
       "      <th>42647</th>\n",
       "      <td>2021-09-09</td>\n",
       "      <td>Uruguay</td>\n",
       "      <td>Ecuador</td>\n",
       "      <td>1</td>\n",
       "      <td>0</td>\n",
       "      <td>FIFA World Cup qualification</td>\n",
       "      <td>Montevideo</td>\n",
       "      <td>Uruguay</td>\n",
       "      <td>False</td>\n",
       "    </tr>\n",
       "    <tr>\n",
       "      <th>42648</th>\n",
       "      <td>2021-09-09</td>\n",
       "      <td>Argentina</td>\n",
       "      <td>Bolivia</td>\n",
       "      <td>3</td>\n",
       "      <td>0</td>\n",
       "      <td>FIFA World Cup qualification</td>\n",
       "      <td>Buenos Aires</td>\n",
       "      <td>Argentina</td>\n",
       "      <td>False</td>\n",
       "    </tr>\n",
       "    <tr>\n",
       "      <th>42649</th>\n",
       "      <td>2021-09-09</td>\n",
       "      <td>Brazil</td>\n",
       "      <td>Peru</td>\n",
       "      <td>2</td>\n",
       "      <td>0</td>\n",
       "      <td>FIFA World Cup qualification</td>\n",
       "      <td>Recife</td>\n",
       "      <td>Brazil</td>\n",
       "      <td>False</td>\n",
       "    </tr>\n",
       "  </tbody>\n",
       "</table>\n",
       "<p>42650 rows × 9 columns</p>\n",
       "</div>"
      ],
      "text/plain": [
       "             date  home_team  away_team  home_score  away_score  \\\n",
       "0      1872-11-30   Scotland    England           0           0   \n",
       "1      1873-03-08    England   Scotland           4           2   \n",
       "2      1874-03-07   Scotland    England           2           1   \n",
       "3      1875-03-06    England   Scotland           2           2   \n",
       "4      1876-03-04   Scotland    England           3           0   \n",
       "...           ...        ...        ...         ...         ...   \n",
       "42645  2021-09-09   Colombia      Chile           3           1   \n",
       "42646  2021-09-09   Paraguay  Venezuela           2           1   \n",
       "42647  2021-09-09    Uruguay    Ecuador           1           0   \n",
       "42648  2021-09-09  Argentina    Bolivia           3           0   \n",
       "42649  2021-09-09     Brazil       Peru           2           0   \n",
       "\n",
       "                         tournament          city    country  neutral  \n",
       "0                          Friendly       Glasgow   Scotland    False  \n",
       "1                          Friendly        London    England    False  \n",
       "2                          Friendly       Glasgow   Scotland    False  \n",
       "3                          Friendly        London    England    False  \n",
       "4                          Friendly       Glasgow   Scotland    False  \n",
       "...                             ...           ...        ...      ...  \n",
       "42645  FIFA World Cup qualification  Barranquilla   Colombia    False  \n",
       "42646  FIFA World Cup qualification      Asunción   Paraguay    False  \n",
       "42647  FIFA World Cup qualification    Montevideo    Uruguay    False  \n",
       "42648  FIFA World Cup qualification  Buenos Aires  Argentina    False  \n",
       "42649  FIFA World Cup qualification        Recife     Brazil    False  \n",
       "\n",
       "[42650 rows x 9 columns]"
      ]
     },
     "execution_count": 3,
     "metadata": {},
     "output_type": "execute_result"
    }
   ],
   "source": [
    "df"
   ]
  },
  {
   "cell_type": "code",
   "execution_count": 4,
   "id": "7025f9f0",
   "metadata": {},
   "outputs": [
    {
     "data": {
      "text/html": [
       "<div>\n",
       "<style scoped>\n",
       "    .dataframe tbody tr th:only-of-type {\n",
       "        vertical-align: middle;\n",
       "    }\n",
       "\n",
       "    .dataframe tbody tr th {\n",
       "        vertical-align: top;\n",
       "    }\n",
       "\n",
       "    .dataframe thead th {\n",
       "        text-align: right;\n",
       "    }\n",
       "</style>\n",
       "<table border=\"1\" class=\"dataframe\">\n",
       "  <thead>\n",
       "    <tr style=\"text-align: right;\">\n",
       "      <th></th>\n",
       "      <th>date</th>\n",
       "      <th>home_team</th>\n",
       "      <th>away_team</th>\n",
       "      <th>home_score</th>\n",
       "      <th>away_score</th>\n",
       "      <th>tournament</th>\n",
       "      <th>city</th>\n",
       "      <th>country</th>\n",
       "      <th>neutral</th>\n",
       "    </tr>\n",
       "  </thead>\n",
       "  <tbody>\n",
       "    <tr>\n",
       "      <th>0</th>\n",
       "      <td>1872-11-30</td>\n",
       "      <td>Scotland</td>\n",
       "      <td>England</td>\n",
       "      <td>0</td>\n",
       "      <td>0</td>\n",
       "      <td>Friendly</td>\n",
       "      <td>Glasgow</td>\n",
       "      <td>Scotland</td>\n",
       "      <td>False</td>\n",
       "    </tr>\n",
       "    <tr>\n",
       "      <th>1</th>\n",
       "      <td>1873-03-08</td>\n",
       "      <td>England</td>\n",
       "      <td>Scotland</td>\n",
       "      <td>4</td>\n",
       "      <td>2</td>\n",
       "      <td>Friendly</td>\n",
       "      <td>London</td>\n",
       "      <td>England</td>\n",
       "      <td>False</td>\n",
       "    </tr>\n",
       "    <tr>\n",
       "      <th>2</th>\n",
       "      <td>1874-03-07</td>\n",
       "      <td>Scotland</td>\n",
       "      <td>England</td>\n",
       "      <td>2</td>\n",
       "      <td>1</td>\n",
       "      <td>Friendly</td>\n",
       "      <td>Glasgow</td>\n",
       "      <td>Scotland</td>\n",
       "      <td>False</td>\n",
       "    </tr>\n",
       "    <tr>\n",
       "      <th>3</th>\n",
       "      <td>1875-03-06</td>\n",
       "      <td>England</td>\n",
       "      <td>Scotland</td>\n",
       "      <td>2</td>\n",
       "      <td>2</td>\n",
       "      <td>Friendly</td>\n",
       "      <td>London</td>\n",
       "      <td>England</td>\n",
       "      <td>False</td>\n",
       "    </tr>\n",
       "    <tr>\n",
       "      <th>4</th>\n",
       "      <td>1876-03-04</td>\n",
       "      <td>Scotland</td>\n",
       "      <td>England</td>\n",
       "      <td>3</td>\n",
       "      <td>0</td>\n",
       "      <td>Friendly</td>\n",
       "      <td>Glasgow</td>\n",
       "      <td>Scotland</td>\n",
       "      <td>False</td>\n",
       "    </tr>\n",
       "    <tr>\n",
       "      <th>...</th>\n",
       "      <td>...</td>\n",
       "      <td>...</td>\n",
       "      <td>...</td>\n",
       "      <td>...</td>\n",
       "      <td>...</td>\n",
       "      <td>...</td>\n",
       "      <td>...</td>\n",
       "      <td>...</td>\n",
       "      <td>...</td>\n",
       "    </tr>\n",
       "    <tr>\n",
       "      <th>42645</th>\n",
       "      <td>2021-09-09</td>\n",
       "      <td>Colombia</td>\n",
       "      <td>Chile</td>\n",
       "      <td>3</td>\n",
       "      <td>1</td>\n",
       "      <td>FIFA World Cup qualification</td>\n",
       "      <td>Barranquilla</td>\n",
       "      <td>Colombia</td>\n",
       "      <td>False</td>\n",
       "    </tr>\n",
       "    <tr>\n",
       "      <th>42646</th>\n",
       "      <td>2021-09-09</td>\n",
       "      <td>Paraguay</td>\n",
       "      <td>Venezuela</td>\n",
       "      <td>2</td>\n",
       "      <td>1</td>\n",
       "      <td>FIFA World Cup qualification</td>\n",
       "      <td>Asunción</td>\n",
       "      <td>Paraguay</td>\n",
       "      <td>False</td>\n",
       "    </tr>\n",
       "    <tr>\n",
       "      <th>42647</th>\n",
       "      <td>2021-09-09</td>\n",
       "      <td>Uruguay</td>\n",
       "      <td>Ecuador</td>\n",
       "      <td>1</td>\n",
       "      <td>0</td>\n",
       "      <td>FIFA World Cup qualification</td>\n",
       "      <td>Montevideo</td>\n",
       "      <td>Uruguay</td>\n",
       "      <td>False</td>\n",
       "    </tr>\n",
       "    <tr>\n",
       "      <th>42648</th>\n",
       "      <td>2021-09-09</td>\n",
       "      <td>Argentina</td>\n",
       "      <td>Bolivia</td>\n",
       "      <td>3</td>\n",
       "      <td>0</td>\n",
       "      <td>FIFA World Cup qualification</td>\n",
       "      <td>Buenos Aires</td>\n",
       "      <td>Argentina</td>\n",
       "      <td>False</td>\n",
       "    </tr>\n",
       "    <tr>\n",
       "      <th>42649</th>\n",
       "      <td>2021-09-09</td>\n",
       "      <td>Brazil</td>\n",
       "      <td>Peru</td>\n",
       "      <td>2</td>\n",
       "      <td>0</td>\n",
       "      <td>FIFA World Cup qualification</td>\n",
       "      <td>Recife</td>\n",
       "      <td>Brazil</td>\n",
       "      <td>False</td>\n",
       "    </tr>\n",
       "  </tbody>\n",
       "</table>\n",
       "<p>42650 rows × 9 columns</p>\n",
       "</div>"
      ],
      "text/plain": [
       "             date  home_team  away_team  home_score  away_score  \\\n",
       "0      1872-11-30   Scotland    England           0           0   \n",
       "1      1873-03-08    England   Scotland           4           2   \n",
       "2      1874-03-07   Scotland    England           2           1   \n",
       "3      1875-03-06    England   Scotland           2           2   \n",
       "4      1876-03-04   Scotland    England           3           0   \n",
       "...           ...        ...        ...         ...         ...   \n",
       "42645  2021-09-09   Colombia      Chile           3           1   \n",
       "42646  2021-09-09   Paraguay  Venezuela           2           1   \n",
       "42647  2021-09-09    Uruguay    Ecuador           1           0   \n",
       "42648  2021-09-09  Argentina    Bolivia           3           0   \n",
       "42649  2021-09-09     Brazil       Peru           2           0   \n",
       "\n",
       "                         tournament          city    country  neutral  \n",
       "0                          Friendly       Glasgow   Scotland    False  \n",
       "1                          Friendly        London    England    False  \n",
       "2                          Friendly       Glasgow   Scotland    False  \n",
       "3                          Friendly        London    England    False  \n",
       "4                          Friendly       Glasgow   Scotland    False  \n",
       "...                             ...           ...        ...      ...  \n",
       "42645  FIFA World Cup qualification  Barranquilla   Colombia    False  \n",
       "42646  FIFA World Cup qualification      Asunción   Paraguay    False  \n",
       "42647  FIFA World Cup qualification    Montevideo    Uruguay    False  \n",
       "42648  FIFA World Cup qualification  Buenos Aires  Argentina    False  \n",
       "42649  FIFA World Cup qualification        Recife     Brazil    False  \n",
       "\n",
       "[42650 rows x 9 columns]"
      ]
     },
     "execution_count": 4,
     "metadata": {},
     "output_type": "execute_result"
    }
   ],
   "source": [
    "df.dropna()"
   ]
  },
  {
   "cell_type": "code",
   "execution_count": 5,
   "id": "0d759c28",
   "metadata": {},
   "outputs": [
    {
     "data": {
      "text/plain": [
       "42650"
      ]
     },
     "execution_count": 5,
     "metadata": {},
     "output_type": "execute_result"
    }
   ],
   "source": [
    "len(df)"
   ]
  },
  {
   "cell_type": "code",
   "execution_count": 6,
   "id": "d81952c0",
   "metadata": {},
   "outputs": [
    {
     "data": {
      "text/plain": [
       "120"
      ]
     },
     "execution_count": 6,
     "metadata": {},
     "output_type": "execute_result"
    }
   ],
   "source": [
    "len(df.tournament.unique())"
   ]
  },
  {
   "cell_type": "code",
   "execution_count": 56,
   "id": "aa041b46",
   "metadata": {},
   "outputs": [],
   "source": [
    "date = df['date']"
   ]
  },
  {
   "cell_type": "code",
   "execution_count": 74,
   "id": "250642b2",
   "metadata": {},
   "outputs": [
    {
     "data": {
      "text/plain": [
       "0        1872-11-30\n",
       "1        1873-03-08\n",
       "2        1874-03-07\n",
       "3        1875-03-06\n",
       "4        1876-03-04\n",
       "            ...    \n",
       "42645    2021-09-09\n",
       "42646    2021-09-09\n",
       "42647    2021-09-09\n",
       "42648    2021-09-09\n",
       "42649    2021-09-09\n",
       "Name: date, Length: 42650, dtype: object"
      ]
     },
     "execution_count": 74,
     "metadata": {},
     "output_type": "execute_result"
    }
   ],
   "source": [
    "date"
   ]
  },
  {
   "cell_type": "code",
   "execution_count": 58,
   "id": "1003c6ce",
   "metadata": {
    "scrolled": true
   },
   "outputs": [],
   "source": [
    "d1 = pd.to_datetime(date)"
   ]
  },
  {
   "cell_type": "code",
   "execution_count": 75,
   "id": "4f417848",
   "metadata": {},
   "outputs": [
    {
     "data": {
      "text/plain": [
       "0       1872-11-30\n",
       "1       1873-03-08\n",
       "2       1874-03-07\n",
       "3       1875-03-06\n",
       "4       1876-03-04\n",
       "           ...    \n",
       "42645   2021-09-09\n",
       "42646   2021-09-09\n",
       "42647   2021-09-09\n",
       "42648   2021-09-09\n",
       "42649   2021-09-09\n",
       "Name: date, Length: 42650, dtype: datetime64[ns]"
      ]
     },
     "execution_count": 75,
     "metadata": {},
     "output_type": "execute_result"
    }
   ],
   "source": [
    "d1"
   ]
  },
  {
   "cell_type": "code",
   "execution_count": 59,
   "id": "3166f376",
   "metadata": {},
   "outputs": [
    {
     "data": {
      "text/plain": [
       "908"
      ]
     },
     "execution_count": 59,
     "metadata": {},
     "output_type": "execute_result"
    }
   ],
   "source": [
    "len(d1[d1.dt.year==2018])"
   ]
  },
  {
   "cell_type": "code",
   "execution_count": 62,
   "id": "56c278aa",
   "metadata": {},
   "outputs": [],
   "source": [
    "Win = df[df.home_score > df.away_score]"
   ]
  },
  {
   "cell_type": "code",
   "execution_count": 63,
   "id": "1c5c734d",
   "metadata": {},
   "outputs": [
    {
     "data": {
      "text/plain": [
       "20739"
      ]
     },
     "execution_count": 63,
     "metadata": {},
     "output_type": "execute_result"
    }
   ],
   "source": [
    "len(Win)"
   ]
  },
  {
   "cell_type": "code",
   "execution_count": 64,
   "id": "21aaa49f",
   "metadata": {},
   "outputs": [],
   "source": [
    "Loss = df[df.home_score < df.away_score]"
   ]
  },
  {
   "cell_type": "code",
   "execution_count": 67,
   "id": "a2e5f37f",
   "metadata": {},
   "outputs": [
    {
     "data": {
      "text/plain": [
       "12074"
      ]
     },
     "execution_count": 67,
     "metadata": {},
     "output_type": "execute_result"
    }
   ],
   "source": [
    "len (Loss)"
   ]
  },
  {
   "cell_type": "code",
   "execution_count": 68,
   "id": "b7d61c4c",
   "metadata": {},
   "outputs": [],
   "source": [
    "Equal = df[df.home_score == df.away_score]"
   ]
  },
  {
   "cell_type": "code",
   "execution_count": 69,
   "id": "65d01c66",
   "metadata": {},
   "outputs": [
    {
     "data": {
      "text/plain": [
       "9837"
      ]
     },
     "execution_count": 69,
     "metadata": {},
     "output_type": "execute_result"
    }
   ],
   "source": [
    "len(Equal)"
   ]
  },
  {
   "cell_type": "code",
   "execution_count": 71,
   "id": "689c8450",
   "metadata": {},
   "outputs": [
    {
     "data": {
      "image/png": "[encoded data removed]",
      "text/plain": [
       "<Figure size 1000x700 with 1 Axes>"
      ]
     },
     "metadata": {},
     "output_type": "display_data"
    }
   ],
   "source": [
    "from matplotlib import pyplot as plt\n",
    "import numpy as np\n",
    " \n",
    "\n",
    "Condition = ['Win', 'Loss', 'Equal']\n",
    "data = [len(Win), len(Loss), len(Equal)]\n",
    "fig = plt.figure(figsize =(10, 7))\n",
    "plt.pie(data, labels = Condition)\n",
    "plt.show()"
   ]
  },
  {
   "cell_type": "code",
   "execution_count": 72,
   "id": "e2a8b2e7",
   "metadata": {},
   "outputs": [],
   "source": [
    "neutral=df['neutral']"
   ]
  },
  {
   "cell_type": "code",
   "execution_count": 73,
   "id": "9a92c280",
   "metadata": {},
   "outputs": [
    {
     "data": {
      "text/plain": [
       "0        False\n",
       "1        False\n",
       "2        False\n",
       "3        False\n",
       "4        False\n",
       "         ...  \n",
       "42645    False\n",
       "42646    False\n",
       "42647    False\n",
       "42648    False\n",
       "42649    False\n",
       "Name: neutral, Length: 42650, dtype: bool"
      ]
     },
     "execution_count": 73,
     "metadata": {},
     "output_type": "execute_result"
    }
   ],
   "source": [
    "neutral"
   ]
  },
  {
   "cell_type": "code",
   "execution_count": 77,
   "id": "233483aa",
   "metadata": {},
   "outputs": [],
   "source": [
    "x1 = (df.home_team.unique())"
   ]
  },
  {
   "cell_type": "code",
   "execution_count": 78,
   "id": "1c39c902",
   "metadata": {},
   "outputs": [
    {
     "data": {
      "text/plain": [
       "array(['Scotland', 'England', 'Wales', 'Northern Ireland',\n",
       "       'United States', 'Uruguay', 'Austria', 'Hungary', 'Argentina',\n",
       "       'Belgium', 'France', 'Netherlands', 'Czechoslovakia',\n",
       "       'Switzerland', 'Sweden', 'Germany', 'Italy', 'Chile', 'Norway',\n",
       "       'Finland', 'Luxembourg', 'Russia', 'Denmark', 'Catalonia',\n",
       "       'Basque Country', 'Brazil', 'Japan', 'Paraguay', 'Canada',\n",
       "       'Estonia', 'Costa Rica', 'Guatemala', 'Spain', 'Brittany',\n",
       "       'Poland', 'Yugoslavia', 'New Zealand', 'Romania', 'Latvia',\n",
       "       'Galicia', 'Portugal', 'Andalusia', 'China PR', 'Australia',\n",
       "       'Lithuania', 'Turkey', 'Central Spain', 'Mexico', 'Aruba', 'Egypt',\n",
       "       'Haiti', 'Philippines', 'Bulgaria', 'Jamaica', 'Kenya', 'Bolivia',\n",
       "       'Peru', 'Honduras', 'Guyana', 'Uganda', 'Belarus', 'El Salvador',\n",
       "       'Barbados', 'Republic of Ireland', 'Trinidad and Tobago', 'Greece',\n",
       "       'Curaçao', 'Dominica', 'Silesia', 'Guadeloupe', 'Israel',\n",
       "       'Suriname', 'French Guiana', 'Cuba', 'Colombia', 'Ecuador',\n",
       "       'Saint Kitts and Nevis', 'Panama', 'Slovakia', 'Manchukuo',\n",
       "       'Croatia', 'Nicaragua', 'Afghanistan', 'India', 'Martinique',\n",
       "       'Zimbabwe', 'Iceland', 'Albania', 'Madagascar', 'Zambia',\n",
       "       'Mauritius', 'Tanzania', 'Iran', 'Djibouti', 'DR Congo', 'Vietnam',\n",
       "       'Macau', 'Ethiopia', 'Puerto Rico', 'Réunion', 'Sierra Leone',\n",
       "       'Zanzibar', 'South Korea', 'Ghana', 'South Africa',\n",
       "       'New Caledonia', 'Fiji', 'Nigeria', 'Venezuela', 'Burma',\n",
       "       'Sri Lanka', 'Tahiti', 'Gambia', 'Hong Kong', 'Singapore',\n",
       "       'Malaysia', 'Indonesia', 'Guinea-Bissau', 'German DR', 'Vanuatu',\n",
       "       'Kernow', 'Saarland', 'Cambodia', 'Lebanon', 'Pakistan',\n",
       "       'Vietnam Republic', 'North Korea', 'Togo', 'Sudan', 'Malta',\n",
       "       'Syria', 'Tunisia', 'Malawi', 'Morocco', 'Benin', 'Cameroon',\n",
       "       'Central African Republic', 'Gabon', 'Ivory Coast', 'Congo',\n",
       "       'Mali', 'North Vietnam', 'Mongolia', 'Taiwan', 'Cyprus', 'Iraq',\n",
       "       'Saint Lucia', 'Grenada', 'Thailand', 'Senegal', 'Libya', 'Guinea',\n",
       "       'Algeria', 'Kuwait', 'Jordan', 'Solomon Islands', 'Liberia',\n",
       "       'Laos', 'Saint Vincent and the Grenadines', 'Bermuda', 'Niger',\n",
       "       'Bahrain', 'Montenegro', 'Palestine', 'Papua New Guinea',\n",
       "       'Burkina Faso', 'Mauritania', 'Saudi Arabia', 'Eswatini',\n",
       "       'Somalia', 'Lesotho', 'Cook Islands', 'Qatar',\n",
       "       'Antigua and Barbuda', 'Faroe Islands', 'Bangladesh', 'Oman',\n",
       "       'Yemen DPR', 'Burundi', 'Yemen', 'Mozambique', 'Guam', 'Chad',\n",
       "       'Angola', 'Dominican Republic', 'Seychelles', 'Rwanda',\n",
       "       'São Tomé and Príncipe', 'Botswana', 'Northern Cyprus',\n",
       "       'Cape Verde', 'Kyrgyzstan', 'Georgia', 'Azerbaijan', 'Kiribati',\n",
       "       'Tonga', 'Wallis Islands and Futuna', 'United Arab Emirates',\n",
       "       'Brunei', 'Equatorial Guinea', 'Liechtenstein', 'Nepal',\n",
       "       'Greenland', 'Niue', 'Samoa', 'American Samoa', 'Belize',\n",
       "       'Anguilla', 'Cayman Islands', 'Palau', 'Sint Maarten', 'Namibia',\n",
       "       'Åland Islands', 'Ynys Môn', 'Saint Martin', 'San Marino',\n",
       "       'Slovenia', 'Jersey', 'Shetland', 'Isle of Wight', 'Moldova',\n",
       "       'Ukraine', 'Kazakhstan', 'Tajikistan', 'Uzbekistan',\n",
       "       'Turkmenistan', 'Armenia', 'Czech Republic', 'Guernsey',\n",
       "       'Gibraltar', 'Isle of Man', 'North Macedonia', 'Montserrat',\n",
       "       'Serbia', 'Canary Islands', 'Bosnia and Herzegovina', 'Maldives',\n",
       "       'Andorra', 'British Virgin Islands', 'Frøya', 'Hitra',\n",
       "       'United States Virgin Islands', 'Corsica', 'Eritrea', 'Bahamas',\n",
       "       'Gotland', 'Saare County', 'Rhodes', 'Micronesia', 'Bhutan',\n",
       "       'Orkney', 'Monaco', 'Tuvalu', 'Sark', 'Alderney', 'Mayotte',\n",
       "       'Turks and Caicos Islands', 'East Timor', 'Western Isles',\n",
       "       'Falkland Islands', 'Kosovo', 'Republic of St. Pauli', 'Găgăuzia',\n",
       "       'Tibet', 'Crimea', 'Occitania', 'Sápmi',\n",
       "       'Northern Mariana Islands', 'Menorca', 'Comoros', 'Provence',\n",
       "       'Arameans Suryoye', 'Padania', 'Iraqi Kurdistan', 'Gozo',\n",
       "       'Bonaire', 'Western Sahara', 'Raetia', 'Darfur', 'Tamil Eelam',\n",
       "       'South Sudan', 'Abkhazia', 'Saint Pierre and Miquelon', 'Artsakh',\n",
       "       'Madrid', 'Vatican City', 'Ellan Vannin', 'South Ossetia',\n",
       "       'County of Nice', 'Székely Land', 'Romani people', 'Felvidék',\n",
       "       'Chagos Islands', 'United Koreans in Japan', 'Somaliland',\n",
       "       'Western Armenia', 'Barawa', 'Kárpátalja', 'Yorkshire', 'Panjab',\n",
       "       'Matabeleland', 'Cascadia', 'Kabylia', 'Timor-Leste', 'Myanmar',\n",
       "       'Parishes of Jersey', 'Chameria', 'Saint Helena'], dtype=object)"
      ]
     },
     "execution_count": 78,
     "metadata": {},
     "output_type": "execute_result"
    }
   ],
   "source": [
    "x1"
   ]
  },
  {
   "cell_type": "code",
   "execution_count": 79,
   "id": "e371ed27",
   "metadata": {},
   "outputs": [
    {
     "data": {
      "text/plain": [
       "308"
      ]
     },
     "execution_count": 79,
     "metadata": {},
     "output_type": "execute_result"
    }
   ],
   "source": [
    "len(x1)"
   ]
  },
  {
   "cell_type": "code",
   "execution_count": null,
   "id": "27297c8b",
   "metadata": {},
   "outputs": [],
   "source": []
  }
 ],
 "metadata": {
  "kernelspec": {
   "display_name": "Python 3 (ipykernel)",
   "language": "python",
   "name": "python3"
  },
  "language_info": {
   "codemirror_mode": {
    "name": "ipython",
    "version": 3
   },
   "file_extension": ".py",
   "mimetype": "text/x-python",
   "name": "python",
   "nbconvert_exporter": "python",
   "pygments_lexer": "ipython3",
   "version": "3.9.13"
  }
 },
 "nbformat": 4,
 "nbformat_minor": 5
}
